{
  "cells": [
    {
      "cell_type": "code",
      "execution_count": 1,
      "metadata": {
        "id": "J-E7eLium14N"
      },
      "outputs": [],
      "source": [
        "import pandas as pd\n",
        "import numpy as np"
      ]
    },
    {
      "cell_type": "markdown",
      "metadata": {
        "id": "jgyuKczK4CAh"
      },
      "source": [
        "### Exemplo\n",
        "\n",
        "Uma empresa de energéticos utiliza em sua fórmula\n",
        "duas substâncias compradas de laboratórios terceirizados - ativina e baratol - os quais contêm dois dos principais ingredientes ativos da bebida: extrato de guaraná e taurina.\n",
        "A fim de otimizar o custo de produção, a empresa deseja saber quantas doses de de cada ingrediente deve incluir em cada lata da bebida, para atingir as quantidades mínimas de 48 gramas por lata de extrato de guaraná e 12 gramas de taurina. Pelos seus severos\n",
        "efeitos colaterais, a vigilância sanitária exige que a quantidade de taurina por lata não deve ultrapassar o limite de 20 gramas. Sabendo que cada dose de ativina custa 0.06 reais e contribui com 8 gramas de extrato de guaraná e 1 grama de taurina, enquanto que cada dose de baratol custa 0.08 reais contribui com 6 gramas de extrato de guaraná e 2 gramas de taurina.\n",
        "\n",
        "- Função Objetivo:\n",
        "  - Min Z = 0,06x1 + 0,08x2\n",
        "- Restrições:\n",
        "  - 1) Guaraná: 8a + 6b >= 48\n",
        "  - 2) Taurina Min: 1a + 2b >= 12\n",
        "  - 3) Taurina Máx: 1a + 2b <= 20\n",
        "- Tal que:\n",
        "  x1, x2 >=0"
      ]
    },
    {
      "cell_type": "code",
      "execution_count": null,
      "metadata": {
        "id": "3IjQ8Hcj3uNm"
      },
      "outputs": [],
      "source": [
        "obj = {'type': 'min', 'coeffs': [0.06, 0.08]}\n",
        "constraints = [([8, 6]), ([1, 2]), ([1, 2])]\n",
        "b_values = [48, 12, 20]\n",
        "const_signs = ['>=', '>=', '<=']\n",
        "vars_sign = ['non-negative', 'non-negative']"
      ]
    },
    {
      "cell_type": "code",
      "execution_count": null,
      "metadata": {
        "id": "sE45Ts2R3dBL"
      },
      "outputs": [],
      "source": [
        "# Gerando a forma canonica\n",
        "\n",
        "def to_canonical_form(obj, const_coeffs, const_signs, b_values, vars_sign):\n",
        "    if obj['type'].lower() == 'min':\n",
        "        obj['coeffs'] = [-c for c in obj['coeffs']]\n",
        "        obj['type'] = 'max'\n",
        "\n",
        "    new_constraints = []\n",
        "    for constr, s, b in zip(const_coeffs, const_signs, b_values):\n",
        "        if s == '=':\n",
        "            # Para restrições de igualdade, adicionamos duas desigualdades\n",
        "            new_constraints.append(([-c for c in constr], -b))\n",
        "            new_constraints.append((constr, b))\n",
        "        elif s == '>=':\n",
        "            # Para restrições de '>=' convertemos para '<='\n",
        "            new_constraints.append(([-c for c in constr], -b))\n",
        "        else:\n",
        "            # Para restrições '<=' mantemos como estão\n",
        "            new_constraints.append((constr, b))\n",
        "\n",
        "    return obj, new_constraints\n"
      ]
    },
    {
      "cell_type": "code",
      "execution_count": null,
      "metadata": {
        "id": "Pajv0ABx8e1y"
      },
      "outputs": [],
      "source": [
        "canonical_obj, canonical_constraints = to_canonical_form(obj, constraints, const_signs, b_values, vars_sign)"
      ]
    },
    {
      "cell_type": "code",
      "execution_count": null,
      "metadata": {
        "colab": {
          "base_uri": "https://localhost:8080/"
        },
        "id": "oz1Qzr2Q8f4p",
        "outputId": "0807fcd5-5479-417a-d2fa-a78e3004424d"
      },
      "outputs": [
        {
          "name": "stdout",
          "output_type": "stream",
          "text": [
            "[([-8, -6], -48), ([-1, -2], -12), ([1, 2], 20)]\n",
            "{'type': 'max', 'coeffs': [-0.06, -0.08]}\n"
          ]
        }
      ],
      "source": [
        "print(canonical_constraints)\n",
        "print(canonical_obj)"
      ]
    },
    {
      "cell_type": "code",
      "execution_count": null,
      "metadata": {
        "id": "8wwtij2c9_zy"
      },
      "outputs": [],
      "source": [
        "# Gerando a forma dual\n",
        "\n",
        "def generate_dual(obj, constraints):\n",
        "    # Função objetivo dual\n",
        "    dual_obj = {'type': 'min', 'coeffs': [b for _, b in constraints]}\n",
        "\n",
        "    # Restrições dual\n",
        "    dual_constraints = []\n",
        "    for i in range(len(obj['coeffs'])):\n",
        "        # Coletando a i-ésima coluna das restrições primal para formar a i-ésima restrição dual\n",
        "        dual_constr = [constr[i] for constr, _ in constraints]\n",
        "        dual_constraints.append((dual_constr, '>=', obj['coeffs'][i]))\n",
        "\n",
        "    return dual_obj, dual_constraints"
      ]
    },
    {
      "cell_type": "code",
      "execution_count": null,
      "metadata": {
        "id": "nTfveecrC_zp"
      },
      "outputs": [],
      "source": [
        "dual_obj, dual_constraints = generate_dual(canonical_obj, canonical_constraints)"
      ]
    },
    {
      "cell_type": "code",
      "execution_count": null,
      "metadata": {
        "colab": {
          "base_uri": "https://localhost:8080/"
        },
        "id": "ZdsKT7USEzJX",
        "outputId": "eb2bc447-585c-4608-d914-71bd1931b140"
      },
      "outputs": [
        {
          "name": "stdout",
          "output_type": "stream",
          "text": [
            "{'type': 'min', 'coeffs': [-48, -12, 20]}\n",
            "[([-8, -1, 1], '>=', -0.06), ([-6, -2, 2], '>=', -0.08)]\n"
          ]
        }
      ],
      "source": [
        "print(dual_obj)\n",
        "print(dual_constraints)"
      ]
    }
  ],
  "metadata": {
    "colab": {
      "provenance": []
    },
    "kernelspec": {
      "display_name": "Python 3",
      "name": "python3"
    },
    "language_info": {
      "codemirror_mode": {
        "name": "ipython",
        "version": 3
      },
      "file_extension": ".py",
      "mimetype": "text/x-python",
      "name": "python",
      "nbconvert_exporter": "python",
      "pygments_lexer": "ipython3",
      "version": "3.10.12"
    }
  },
  "nbformat": 4,
  "nbformat_minor": 0
}
